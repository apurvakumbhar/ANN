{
  "nbformat": 4,
  "nbformat_minor": 0,
  "metadata": {
    "colab": {
      "provenance": [],
      "authorship_tag": "ABX9TyNpjgG43lp72xQ31ZSTZJbX",
      "include_colab_link": true
    },
    "kernelspec": {
      "name": "python3",
      "display_name": "Python 3"
    },
    "language_info": {
      "name": "python"
    }
  },
  "cells": [
    {
      "cell_type": "markdown",
      "metadata": {
        "id": "view-in-github",
        "colab_type": "text"
      },
      "source": [
        "<a href=\"https://colab.research.google.com/github/apurvakumbhar/ANN/blob/main/LMS.ipynb\" target=\"_parent\"><img src=\"https://colab.research.google.com/assets/colab-badge.svg\" alt=\"Open In Colab\"/></a>"
      ]
    },
    {
      "cell_type": "code",
      "execution_count": null,
      "metadata": {
        "colab": {
          "base_uri": "https://localhost:8080/"
        },
        "id": "OAZkXpKwGphQ",
        "outputId": "232ac3a4-0d6e-4d3d-82d9-d6e18e45294c"
      },
      "outputs": [
        {
          "output_type": "stream",
          "name": "stdout",
          "text": [
            "Epoch 0, MSE: 84.74849837739418\n",
            "Epoch 10, MSE: 30.841245513507253\n",
            "Epoch 20, MSE: 11.223537865242358\n",
            "Epoch 30, MSE: 4.084375004793297\n",
            "Epoch 40, MSE: 1.4863442417344686\n",
            "Epoch 50, MSE: 0.5408927460033011\n",
            "Epoch 60, MSE: 0.1968343369450593\n",
            "Epoch 70, MSE: 0.07162893829798675\n",
            "Epoch 80, MSE: 0.02606598312572488\n",
            "Epoch 90, MSE: 0.009485443566143665\n",
            "Epoch 100, MSE: 0.00345174825428654\n",
            "Epoch 110, MSE: 0.0012560835078734799\n",
            "Epoch 120, MSE: 0.0004570838101704824\n",
            "Epoch 130, MSE: 0.00016633019092574317\n",
            "Epoch 140, MSE: 6.052631734095272e-05\n",
            "Epoch 150, MSE: 2.2024970135917134e-05\n",
            "\n",
            "Final Weights:\n",
            " [[5.99731174]\n",
            " [2.82714631]]\n",
            "\n",
            "Predictions:\n",
            "[[ 2.]\n",
            " [ 4.]\n",
            " [ 6.]\n",
            " [ 8.]\n",
            " [10.]]\n"
          ]
        }
      ],
      "source": [
        "#implement lms\n",
        "import numpy as np\n",
        "import pandas as pd\n",
        "import matplotlib.pyplot as plt\n",
        "\n",
        "X = np.array([[1],[2],[3],[4],[5]])\n",
        "Y = np.array([[2],[4],[6],[8],[10]])\n",
        "\n",
        "# Normalize features\n",
        "X = (X - np.mean(X)) / np.std(X)\n",
        "\n",
        "# Add bias term to X\n",
        "X = np.hstack((np.ones((X.shape[0], 1)), X))  # Shape: (n_samples, 2)\n",
        "\n",
        "w = np.random.randn(2, 1)  # Initialize weights randomly\n",
        "lr = 0.01\n",
        "epochs = 160\n",
        "\n",
        "for epoch in range(epochs):\n",
        "    for i in range(X.shape[0]):\n",
        "        xi = X[i].reshape(1, -1)  # Shape: (1, 2)\n",
        "        yi = Y[i].reshape(1, -1)  # Shape: (1, 1)\n",
        "\n",
        "        y_pred = np.dot(xi, w)  # Shape: (1, 1)\n",
        "\n",
        "        error = yi - y_pred  # Shape: (1, 1)\n",
        "\n",
        "        # gradient = -2 * xi.T.dot(error)  # Shape: (2, 1)\n",
        "\n",
        "        # w -= lr * gradient\n",
        "\n",
        "        w = w + lr * xi.T * error\n",
        "\n",
        "    if epoch % 10 == 0:\n",
        "        y_all_pred = np.dot(X, w)\n",
        "        mse = np.mean((Y - y_all_pred) ** 2)\n",
        "        print(f\"Epoch {epoch}, MSE: {mse}\")\n",
        "\n",
        "print(\"\\nFinal Weights:\\n\", w)\n",
        "print(\"\\nPredictions:\")\n",
        "predictions = np.dot(X, w)\n",
        "print(predictions.round(2))"
      ]
    }
  ]
}