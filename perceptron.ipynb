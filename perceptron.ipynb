{
  "nbformat": 4,
  "nbformat_minor": 0,
  "metadata": {
    "colab": {
      "provenance": [],
      "authorship_tag": "ABX9TyMY5FnY37zY42y4Sv8w5KL2",
      "include_colab_link": true
    },
    "kernelspec": {
      "name": "python3",
      "display_name": "Python 3"
    },
    "language_info": {
      "name": "python"
    }
  },
  "cells": [
    {
      "cell_type": "markdown",
      "metadata": {
        "id": "view-in-github",
        "colab_type": "text"
      },
      "source": [
        "<a href=\"https://colab.research.google.com/github/apurvakumbhar/ANN/blob/main/perceptron.ipynb\" target=\"_parent\"><img src=\"https://colab.research.google.com/assets/colab-badge.svg\" alt=\"Open In Colab\"/></a>"
      ]
    },
    {
      "cell_type": "code",
      "execution_count": null,
      "metadata": {
        "colab": {
          "base_uri": "https://localhost:8080/"
        },
        "id": "8dssE7ahFGoe",
        "outputId": "1eafae4f-bf21-4f15-8757-b98628b99154"
      },
      "outputs": [
        {
          "output_type": "stream",
          "name": "stdout",
          "text": [
            "Predictions: [1 0]\n"
          ]
        }
      ],
      "source": [
        "import numpy as np\n",
        "\n",
        "# Step function as activation function\n",
        "def step_function(x):\n",
        "    return 1 if x >= 0 else 0\n",
        "\n",
        "# Perceptron model\n",
        "class Perceptron:\n",
        "    def __init__(self, learning_rate=0.01, epochs=100):\n",
        "        self.learning_rate = learning_rate\n",
        "        self.epochs = epochs\n",
        "        self.weights = None\n",
        "        self.bias = None\n",
        "\n",
        "    def fit(self, X, y):\n",
        "        num_features = X.shape[1]\n",
        "        self.weights = np.random.rand(num_features)\n",
        "        self.bias = np.random.rand()\n",
        "\n",
        "        for _ in range(self.epochs):\n",
        "            for i in range(len(X)):\n",
        "                y_pred = step_function(np.dot(X[i], self.weights) + self.bias)\n",
        "                self.weights += self.learning_rate * (y[i] - y_pred) * X[i]\n",
        "                self.bias += self.learning_rate * (y[i] - y_pred)\n",
        "\n",
        "    def predict(self, X):\n",
        "        return np.array([step_function(np.dot(x, self.weights) + self.bias) for x in X])\n",
        "\n",
        "# Sample dataset: [capital_letters, contains_free (1 or 0), email_length]\n",
        "X = np.array([\n",
        "    [10, 1, 100],\n",
        "    [2, 0, 50],\n",
        "    [20, 1, 200],\n",
        "    [1, 0, 30],\n",
        "    [15, 1, 150],\n",
        "    [5, 0, 80]\n",
        "])\n",
        "y = np.array([1, 0, 1, 0, 1, 0])  # 1: Spam, 0: Not Spam\n",
        "\n",
        "# Train perceptron\n",
        "perceptron = Perceptron(learning_rate=0.1, epochs=10)\n",
        "perceptron.fit(X, y)\n",
        "\n",
        "# Test new email samples\n",
        "X_test = np.array([\n",
        "    [8, 1, 120],  # Likely spam\n",
        "    [3, 0, 60]    # Likely not spam\n",
        "])\n",
        "\n",
        "predictions = perceptron.predict(X_test)\n",
        "print(\"Predictions:\", predictions)\n"
      ]
    },
    {
      "cell_type": "code",
      "source": [
        "\n",
        "import numpy as np\n",
        "\n",
        "# Step function as activation function\n",
        "def step_function(x):\n",
        "    return 1 if x >= 0 else 0\n",
        "\n",
        "# Perceptron model\n",
        "class Perceptron:\n",
        "    def __init__(self, learning_rate=0.001, epochs=100):\n",
        "        self.learning_rate = learning_rate\n",
        "        self.epochs = epochs\n",
        "        self.weights = None\n",
        "        self.bias = None\n",
        "\n",
        "    def fit(self, X, y):\n",
        "        num_features = X.shape[1]\n",
        "        self.weights = np.zeros(num_features)  # Initialize weights to zeros\n",
        "        self.bias = 0  # Initialize bias to zero\n",
        "\n",
        "        for _ in range(self.epochs):\n",
        "            for i in range(len(X)):\n",
        "                y_pred = step_function(np.dot(X[i], self.weights) + self.bias)\n",
        "                self.weights += self.learning_rate * (y[i] - y_pred) * X[i]\n",
        "                self.bias += self.learning_rate * (y[i] - y_pred)\n",
        "\n",
        "    def predict(self, X):\n",
        "        return np.array([step_function(np.dot(x, self.weights) + self.bias) for x in X])\n",
        "\n",
        "# Sample dataset: [credit_score, annual_income, previous_loan_defaults (1 or 0)]\n",
        "X = np.array([\n",
        "    [750, 50000, 0],\n",
        "    [600, 30000, 1],\n",
        "    [800, 70000, 0],\n",
        "    [550, 20000, 1],\n",
        "    [720, 65000, 0],\n",
        "    [580, 25000, 1]\n",
        "])\n",
        "y = np.array([1, 0, 1, 0, 1, 0])  # 1: Loan Approved, 0: Loan Denied\n",
        "\n",
        "# Train perceptron\n",
        "perceptron = Perceptron(learning_rate=0.1, epochs=10)\n",
        "perceptron.fit(X, y)\n",
        "\n",
        "# Test new loan applicants\n",
        "X_test = np.array([\n",
        "    [700, 55000, 0],  # Likely approved\n",
        "    [590, 28000, 1]   # Likely denied\n",
        "])\n",
        "\n",
        "predictions = perceptron.predict(X_test)\n",
        "print(\"Predictions:\", predictions)"
      ],
      "metadata": {
        "colab": {
          "base_uri": "https://localhost:8080/"
        },
        "id": "p4dJKDf9FRQI",
        "outputId": "444013b9-abea-48f7-e61c-0b5d8ff485ad"
      },
      "execution_count": null,
      "outputs": [
        {
          "output_type": "stream",
          "name": "stdout",
          "text": [
            "Predictions: [1 1]\n"
          ]
        }
      ]
    },
    {
      "cell_type": "code",
      "source": [
        "import numpy as np\n",
        "\n",
        "# Step function as activation function\n",
        "def step_function(x):\n",
        "    return 1 if x >= 0 else 0\n",
        "\n",
        "# Perceptron model\n",
        "class Perceptron:\n",
        "    def __init__(self, learning_rate=0.1, epochs=1000):\n",
        "        self.learning_rate = learning_rate\n",
        "        self.epochs = epochs\n",
        "        self.weights = None\n",
        "        self.bias = None\n",
        "\n",
        "    def fit(self, X, y):\n",
        "        num_features = X.shape[1]\n",
        "        self.weights = np.zeros(num_features)  # Initialize weights to zeros\n",
        "        self.bias = 0  # Initialize bias to zero\n",
        "\n",
        "        for epoch in range(self.epochs):\n",
        "            total_error = 0\n",
        "            for i in range(len(X)):\n",
        "                # Compute the prediction\n",
        "                y_pred = step_function(np.dot(X[i], self.weights) + self.bias)\n",
        "\n",
        "                # Compute error\n",
        "                error = y[i] - y_pred\n",
        "\n",
        "                # Update weights and bias using the learning rule\n",
        "                self.weights += self.learning_rate * error * X[i]\n",
        "                self.bias += self.learning_rate * error\n",
        "\n",
        "                total_error += abs(error)  # Track total error to monitor learning\n",
        "\n",
        "            # Optionally, print the error for each epoch to see the progress\n",
        "            #print(f\"Epoch {epoch+1}/{self.epochs} - Total Error: {total_error}\")\n",
        "\n",
        "    def predict(self, X):\n",
        "        return np.array([step_function(np.dot(x, self.weights) + self.bias) for x in X])\n",
        "\n",
        "# Sample dataset: [credit_score, annual_income, previous_loan_defaults (1 or 0)]\n",
        "X = np.array([\n",
        "    [750, 50000, 0],\n",
        "    [600, 30000, 1],\n",
        "    [800, 70000, 0],\n",
        "    [550, 20000, 1],\n",
        "    [720, 65000, 0],\n",
        "    [580, 25000, 1]\n",
        "])\n",
        "y = np.array([1, 0, 1, 0, 1, 0])  # Target labels: 1 -> Approved, 0 -> Denied\n",
        "\n",
        "# Train perceptron\n",
        "perceptron = Perceptron(learning_rate=0.1, epochs=1000)\n",
        "perceptron.fit(X, y)\n",
        "\n",
        "# Test new loan applicants\n",
        "X_test = np.array([\n",
        "    [700, 55000, 0],  # Likely approved\n",
        "    [590, 28000, 1]   # Likely denied\n",
        "])\n",
        "\n",
        "predictions = perceptron.predict(X_test)\n",
        "print(\"Predictions:\", predictions)\n"
      ],
      "metadata": {
        "colab": {
          "base_uri": "https://localhost:8080/"
        },
        "id": "YhC-jWbXFbhn",
        "outputId": "779a7334-c5d0-4cd0-e1cc-c39752ff647e"
      },
      "execution_count": null,
      "outputs": [
        {
          "output_type": "stream",
          "name": "stdout",
          "text": [
            "Predictions: [1 0]\n"
          ]
        }
      ]
    }
  ]
}