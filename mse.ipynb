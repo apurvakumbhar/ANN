{
  "nbformat": 4,
  "nbformat_minor": 0,
  "metadata": {
    "colab": {
      "provenance": [],
      "authorship_tag": "ABX9TyNCASqmA7EUXhTGfntL2vpg",
      "include_colab_link": true
    },
    "kernelspec": {
      "name": "python3",
      "display_name": "Python 3"
    },
    "language_info": {
      "name": "python"
    }
  },
  "cells": [
    {
      "cell_type": "markdown",
      "metadata": {
        "id": "view-in-github",
        "colab_type": "text"
      },
      "source": [
        "<a href=\"https://colab.research.google.com/github/apurvakumbhar/ANN/blob/main/mse.ipynb\" target=\"_parent\"><img src=\"https://colab.research.google.com/assets/colab-badge.svg\" alt=\"Open In Colab\"/></a>"
      ]
    },
    {
      "cell_type": "code",
      "execution_count": null,
      "metadata": {
        "id": "E9GfFroNAyib",
        "outputId": "c9e43220-64cd-4c30-8e01-4b0d1bfccdf8",
        "colab": {
          "base_uri": "https://localhost:8080/"
        }
      },
      "outputs": [
        {
          "output_type": "stream",
          "name": "stdout",
          "text": [
            "Mean Squared Error: 5089.999999999987\n",
            "Predicted Price for input [3 rooms, 1500 sq ft, 0.7 location index]: $ 363999.99999999994\n"
          ]
        }
      ],
      "source": [
        "import numpy as np\n",
        "from sklearn.linear_model import LinearRegression\n",
        "from sklearn.metrics import mean_squared_error\n",
        "from sklearn.model_selection import train_test_split\n",
        "\n",
        "# Sample dataset: [rooms, area (sq ft), location index]\n",
        "X = np.array([\n",
        "    [2, 1000, 0.5],\n",
        "    [3, 1500, 0.7],\n",
        "    [4, 2000, 0.9],\n",
        "    [3, 1200, 0.6],\n",
        "    [5, 2500, 1.0],\n",
        "    [4, 1800, 0.85]\n",
        "])\n",
        "\n",
        "# Corresponding house prices in $ (in thousands)\n",
        "y = np.array([200, 300, 450, 280, 500, 400])\n",
        "\n",
        "# Split into training and testing sets\n",
        "X_train, X_test, y_train, y_test = train_test_split(X, y, test_size=0.2, random_state=42)\n",
        "\n",
        "# Create and train the model\n",
        "model = LinearRegression()\n",
        "model.fit(X_train, y_train)\n",
        "\n",
        "# Make predictions\n",
        "y_pred = model.predict(X_test)\n",
        "\n",
        "# Calculate Mean Squared Error\n",
        "mse = mean_squared_error(y_test, y_pred)\n",
        "print(\"Mean Squared Error:\", mse)\n",
        "\n",
        "# Example prediction\n",
        "sample_input = np.array([[3, 1500, 0.7]])\n",
        "predicted_price = model.predict(sample_input)\n",
        "print(\"Predicted Price for input [3 rooms, 1500 sq ft, 0.7 location index]: $\", predicted_price[0]*1000)\n"
      ]
    }
  ]
}